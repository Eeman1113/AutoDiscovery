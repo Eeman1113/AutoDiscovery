{
 "cells": [
  {
   "cell_type": "code",
   "execution_count": null,
   "id": "f4f73e47",
   "metadata": {
    "vscode": {
     "languageId": "plaintext"
    }
   },
   "outputs": [],
   "source": [
    "# Run setup\n",
    "%python setup.py\n"
   ]
  },
  {
   "cell_type": "code",
   "execution_count": null,
   "id": "db60ade4",
   "metadata": {
    "vscode": {
     "languageId": "plaintext"
    }
   },
   "outputs": [],
   "source": [
    "\n",
    "# Execute a research query\n",
    "python main.py --query \"Your research question here\""
   ]
  },
  {
   "cell_type": "code",
   "execution_count": null,
   "id": "2ebb8c36",
   "metadata": {
    "vscode": {
     "languageId": "plaintext"
    }
   },
   "outputs": [],
   "source": [
    "\n",
    "\n",
    "# Interactive mode\n",
    "python main.py --interactive\n"
   ]
  },
  {
   "cell_type": "code",
   "execution_count": null,
   "id": "fc803294",
   "metadata": {
    "vscode": {
     "languageId": "plaintext"
    }
   },
   "outputs": [],
   "source": [
    "\n",
    "# Run examples\n",
    "python example.py creative\n",
    "python example.py analytical\n",
    "python example.py technical"
   ]
  }
 ],
 "metadata": {
  "language_info": {
   "name": "python"
  }
 },
 "nbformat": 4,
 "nbformat_minor": 5
}
